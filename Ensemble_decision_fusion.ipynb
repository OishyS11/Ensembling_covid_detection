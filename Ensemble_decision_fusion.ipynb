{
  "nbformat": 4,
  "nbformat_minor": 0,
  "metadata": {
    "colab": {
      "name": "Ensemble_3class_fold2_decision_fusion.ipynb",
      "provenance": [],
      "collapsed_sections": []
    },
    "kernelspec": {
      "name": "python3",
      "display_name": "Python 3"
    }
  },
  "cells": [
    {
      "cell_type": "code",
      "metadata": {
        "id": "VWFr0o9-PWjk",
        "colab_type": "code",
        "colab": {
          "base_uri": "https://localhost:8080/",
          "height": 34
        },
        "outputId": "425a2ef3-a7ea-46e1-8dfa-f7e17fed1fd8"
      },
      "source": [
        "from google.colab import drive\n",
        "drive.mount('/content/drive')"
      ],
      "execution_count": null,
      "outputs": [
        {
          "output_type": "stream",
          "text": [
            "Drive already mounted at /content/drive; to attempt to forcibly remount, call drive.mount(\"/content/drive\", force_remount=True).\n"
          ],
          "name": "stdout"
        }
      ]
    },
    {
      "cell_type": "code",
      "metadata": {
        "id": "By_S3IvJPfks",
        "colab_type": "code",
        "colab": {}
      },
      "source": [
        " \n",
        "# General libraries\n",
        "import os\n",
        "import numpy as np\n",
        "import pandas as pd \n",
        "import random\n",
        "import cv2\n",
        "import matplotlib.pyplot as plt\n",
        "%matplotlib inline\n",
        " \n",
        "# Deep learning libraries\n",
        "import tensorflow.keras.backend as K\n",
        "from tensorflow.keras.models import Model, Sequential\n",
        "from tensorflow.keras.layers import Input, Dense, Flatten, Dropout, BatchNormalization\n",
        "from tensorflow.keras.layers import Conv2D, SeparableConv2D, MaxPooling2D, LeakyReLU, Activation, Lambda, GlobalAveragePooling2D, DepthwiseConv2D, GlobalMaxPooling2D\n",
        "from tensorflow.keras.layers import Add, Concatenate\n",
        "from tensorflow.keras.optimizers import Adam\n",
        "from tensorflow.keras.preprocessing.image import ImageDataGenerator\n",
        "from tensorflow.keras.callbacks import ModelCheckpoint, ReduceLROnPlateau, EarlyStopping\n",
        "from tensorflow.keras.optimizers import Adam, SGD\n",
        "import tensorflow as tf\n",
        " \n",
        "# Setting seeds for reproducibility\n",
        "seed = 232\n",
        "np.random.seed(seed)\n",
        "tf.random.set_seed(seed)"
      ],
      "execution_count": null,
      "outputs": []
    },
    {
      "cell_type": "code",
      "metadata": {
        "id": "8DCyVt-iPhib",
        "colab_type": "code",
        "colab": {}
      },
      "source": [
        "input_path = '/content/drive/My Drive/Cross Validation Data/Fold 2/' #Change it as necessary, This is the base path for data"
      ],
      "execution_count": null,
      "outputs": []
    },
    {
      "cell_type": "code",
      "metadata": {
        "id": "6KOeKsm0Pk9w",
        "colab_type": "code",
        "colab": {}
      },
      "source": [
        "# Hyperparameters\n",
        "img_dims = 227\n",
        "epochs = 50\n",
        "batch_size = 32"
      ],
      "execution_count": null,
      "outputs": []
    },
    {
      "cell_type": "markdown",
      "metadata": {
        "id": "oo4vFX_ZjX1V",
        "colab_type": "text"
      },
      "source": [
        ""
      ]
    },
    {
      "cell_type": "code",
      "metadata": {
        "id": "8edgYRz0PlNR",
        "colab_type": "code",
        "colab": {}
      },
      "source": [
        "X_train = []\n",
        "X_test = []\n",
        "y_train = []\n",
        "y_test = []\n",
        "\n",
        "for cond in ['/COVID19/', '/NORMAL/','/PNEUMONIA/']:\n",
        "  for img_name in os.listdir(input_path+'test'+cond):\n",
        "    img = cv2.imread(input_path+'test'+cond+img_name, 0)\n",
        "    try:\n",
        "      img = cv2.resize(img, (img_dims, img_dims))\n",
        "    except:\n",
        "      print(img_name)\n",
        "      \n",
        "      #lbp_img = local_binary_pattern(img, P=8, R=8, method='uniform')/255.0\n",
        "    img = np.dstack([img, img, img])  #Feinting color image channel\n",
        "    img = img.astype('float32') / 255.0\n",
        "      #img = img/255.0\n",
        "      \n",
        "    X_test.append(img)\n",
        "        \n",
        "    if cond=='/COVID19/':\n",
        "       label=0\n",
        "       y_test.append(label)\n",
        "    elif cond=='/NORMAL/':\n",
        "       label=1\n",
        "       y_test.append(label)\n",
        "    else:\n",
        "       label=2\n",
        "       y_test.append(label)\n",
        "\n",
        "\n",
        "X_test = np.array(X_test)\n",
        "\n",
        "y_test = np.array(y_test)"
      ],
      "execution_count": null,
      "outputs": []
    },
    {
      "cell_type": "code",
      "metadata": {
        "id": "m-DzYUnfPm5x",
        "colab_type": "code",
        "colab": {
          "base_uri": "https://localhost:8080/",
          "height": 34
        },
        "outputId": "b4c260a5-29f1-4607-8ed3-5e778e7f75dc"
      },
      "source": [
        "print(X_test.shape)"
      ],
      "execution_count": null,
      "outputs": [
        {
          "output_type": "stream",
          "text": [
            "(246, 227, 227, 3)\n"
          ],
          "name": "stdout"
        }
      ]
    },
    {
      "cell_type": "markdown",
      "metadata": {
        "id": "P6EGwMe00MMl",
        "colab_type": "text"
      },
      "source": [
        ""
      ]
    },
    {
      "cell_type": "markdown",
      "metadata": {
        "id": "7P82XpvoPya7",
        "colab_type": "text"
      },
      "source": [
        "# **First Model to Use**"
      ]
    },
    {
      "cell_type": "code",
      "metadata": {
        "id": "hy_dyXGDPom3",
        "colab_type": "code",
        "colab": {}
      },
      "source": [
        "##########MODEL DESCRIPTION GOES HERE ###############\n",
        "########### THIS IS MobileNet ########## \n",
        " \n",
        "num_classes=3\n",
        " \n",
        "IMAGE_SIZE = [227,227]\n",
        "mobilenet = tf.keras.applications.MobileNet(input_shape = IMAGE_SIZE + [3], weights = None ,alpha=1.0,dropout=0.001, include_top = False)\n",
        " \n",
        "for layer in mobilenet.layers:\n",
        "  layer.trainable=False\n",
        " \n",
        "########### Make sure the Number of Dense Layers and Number of Neurons are the same as you had saved\n",
        "x = Flatten()(mobilenet.output)\n",
        "x=Dense(256,activation='relu')(x)\n",
        "x=Dense(128,activation='relu')(x)\n",
        "x=Dropout(.2)(x)\n",
        "prediction = Dense(num_classes, activation='softmax')(x)\n",
        "\n",
        "model1 = Model(inputs=mobilenet.input,outputs=prediction)\n",
        "\n",
        "model1.compile(optimizer='adam', loss='categorical_crossentropy', metrics=[\"accuracy\"])\n",
        "weight_path = '/content/drive/My Drive/Results/Weight/New_3class_Mobilenet_without_lbp_fold2_dropout_unfreeze.h5'###### Here weights of 1st viral vs bacterial model will be loaded\n",
        "model1.load_weights(weight_path)\n",
        " \n",
        "model_first = Model(model1.inputs, model1.output)# Here, the final dense layer is layer -1, the dropout before that is -2, then -3 and -4 and Flatten layer is -5. Take what you need.\n",
        "#X_train_first = model_first.predict(X_train)\n",
        "#X_test_first = model_first.predict(X_test)\n",
        " \n",
        "######################### This is where we will save the predictions ################################\n",
        "#save_path = '/content/drive/My Drive/'##########################\n",
        "#np.save(save_path+'Train First Model.npy', X_train_first)\n",
        "#np.save(save_path+'Test First Model.npy', X_test_first)"
      ],
      "execution_count": null,
      "outputs": []
    },
    {
      "cell_type": "markdown",
      "metadata": {
        "id": "frygnry_n2_P",
        "colab_type": "text"
      },
      "source": [
        "## **Second Model to Use**"
      ]
    },
    {
      "cell_type": "code",
      "metadata": {
        "id": "RdTyd2uZsbqu",
        "colab_type": "code",
        "colab": {}
      },
      "source": [
        "##########MODEL DESCRIPTION GOES HERE ###############\n",
        "########### THIS IS MobileNet ########## \n",
        " \n",
        "num_classes=3\n",
        " \n",
        "IMAGE_SIZE = [227,227]\n",
        "mobilenet2 = tf.keras.applications.DenseNet201(input_shape = IMAGE_SIZE + [3], weights = None ,include_top = False,pooling='avg')\n",
        " \n",
        "for layer in mobilenet2.layers:\n",
        "  layer.trainable=False\n",
        "\n",
        "########### Make sure the Number of Dense Layers and Number of Neurons are the same as you had saved\n",
        "#x = GlobalAveragePooling2D()(mobilenet2.output)\n",
        "x=Dense(256,activation='relu')(mobilenet2.output)\n",
        "x=Dense(128,activation='relu')(x)\n",
        "x=Dropout(.2)(x)\n",
        "prediction = Dense(num_classes, activation='softmax')(x)\n",
        "\n",
        "model2 = Model(inputs=mobilenet2.input,outputs=prediction)\n",
        "\n",
        "model2.compile(optimizer='adam', loss='categorical_crossentropy', metrics=[\"accuracy\"])\n",
        "weight_path = '/content/drive/My Drive/Results/Weight/3class_densenet201_fold2_simple.h5'################################\n",
        "model2.load_weights(weight_path)\n",
        " \n",
        "model_second = Model(model2.inputs, model2.output)# Here, the final dense layer is layer -1, the dropout before that is -2, then -3 and -4 and Flatten layer is -5. Take what you need.\n",
        "#X_train_second = model_second.predict(X_train)\n",
        "#X_test_second = model_second.predict(X_test)\n",
        " \n",
        "######################### This is where we will save the predictions ################################\n",
        "#save_path = '/content/drive/My Drive/'##########################\n",
        "#np.save(save_path+'Train Second Model.npy', X_train_second)\n",
        "#np.save(save_path+'Test Second Model.npy', X_test_second)"
      ],
      "execution_count": null,
      "outputs": []
    },
    {
      "cell_type": "markdown",
      "metadata": {
        "id": "rj-U1QTGstJ3",
        "colab_type": "text"
      },
      "source": [
        "## **Third Model to Use**\n"
      ]
    },
    {
      "cell_type": "code",
      "metadata": {
        "id": "azxkf7PwsoYT",
        "colab_type": "code",
        "colab": {}
      },
      "source": [
        "##########MODEL DESCRIPTION GOES HERE ###############\n",
        "########### THIS IS MobileNet ########## \n",
        " \n",
        "num_classes=3\n",
        " \n",
        "IMAGE_SIZE = [227,227]\n",
        "mobilenet3 = tf.keras.applications.Xception(input_shape = IMAGE_SIZE + [3], weights = None ,include_top = False,pooling='avg')\n",
        " \n",
        "for layer in mobilenet3.layers:\n",
        "  layer.trainable=False\n",
        " \n",
        "########### Make sure the Number of Dense Layers and Number of Neurons are the same as you had saved\n",
        "#x = GlobalAveragePooling2D()(mobilenet3.output)\n",
        "x=Dense(256,activation='relu')(mobilenet3.output)\n",
        "x=Dense(128,activation='relu')(x)\n",
        "x=Dropout(.2)(x)\n",
        "prediction = Dense(num_classes, activation='softmax')(x)\n",
        "\n",
        "model3 = Model(inputs=mobilenet3.input,outputs=prediction)\n",
        "\n",
        "model3.compile(optimizer='adam', loss='categorical_crossentropy', metrics=[\"accuracy\"])\n",
        "weight_path = '/content/drive/My Drive/Results/Weight/3class_xception_fold2_simple.h5'################################\n",
        "model3.load_weights(weight_path)\n",
        " \n",
        "model_third = Model(model3.inputs, model3.output)# Here, the final dense layer is layer -1, the dropout before that is -2, then -3 and -4 and Flatten layer is -5. Take what you need.\n"
      ],
      "execution_count": null,
      "outputs": []
    },
    {
      "cell_type": "markdown",
      "metadata": {
        "id": "YgFrJ209tJDg",
        "colab_type": "text"
      },
      "source": [
        "## **Fourth Model to Use**"
      ]
    },
    {
      "cell_type": "code",
      "metadata": {
        "id": "yRnHbBtMsp38",
        "colab_type": "code",
        "colab": {}
      },
      "source": [
        "##########MODEL DESCRIPTION GOES HERE ###############\n",
        "########### THIS IS MobileNet(4th model) ########## \n",
        " \n",
        "num_classes=3\n",
        " \n",
        "IMAGE_SIZE = [227,227]\n",
        "mobilenet4 = tf.keras.applications.InceptionV3(input_shape = IMAGE_SIZE + [3], weights = None ,include_top=False,pooling='avg')\n",
        " \n",
        "for layer in mobilenet4.layers:\n",
        "  layer.trainable=False\n",
        " \n",
        "########### Make sure the Number of Dense Layers and Number of Neurons are the same as you had saved\n",
        "#x = GlobalAveragePooling2D()(mobilenet.output)\n",
        "x=Dense(256,activation='relu')(mobilenet4.output)\n",
        "x=Dense(128,activation='relu')(x)\n",
        "x=Dropout(.2)(x)\n",
        "prediction = Dense(num_classes, activation='softmax')(x)\n",
        "\n",
        "model4 = Model(inputs=mobilenet4.input,outputs=prediction)\n",
        "\n",
        "model4.compile(optimizer='adam', loss='categorical_crossentropy', metrics=[\"accuracy\"])\n",
        "weight_path = '/content/drive/My Drive/Results/Weight/NORMAL 3 CLASS INCEPTION FOLD 2.h5'################################\n",
        "model4.load_weights(weight_path)\n",
        " \n",
        "model_fourth = Model(model4.inputs, model4.output)# Here, the final dense layer is layer -1, the dropout before that is -2, then -3 and -4 and Flatten layer is -5. Take what you need.\n"
      ],
      "execution_count": null,
      "outputs": []
    },
    {
      "cell_type": "markdown",
      "metadata": {
        "id": "xMPAsaMLt1Cb",
        "colab_type": "text"
      },
      "source": [
        "## **THIS IS Fifth MODEL**"
      ]
    },
    {
      "cell_type": "code",
      "metadata": {
        "id": "5uTHOyhhXTFi",
        "colab_type": "code",
        "colab": {}
      },
      "source": [
        "num_classes=3\n",
        " \n",
        "IMAGE_SIZE = [227,227]\n",
        "mobilenet5 = tf.keras.applications.DenseNet121(input_shape = IMAGE_SIZE + [3], weights = None ,include_top = False,pooling='avg')\n",
        " \n",
        "for layer in mobilenet5.layers:\n",
        "  layer.trainable=False\n",
        "\n",
        "########### Make sure the Number of Dense Layers and Number of Neurons are the same as you had saved\n",
        "#x = GlobalAveragePooling2D()(mobilenet2.output)\n",
        "x=Dense(256,activation='relu')(mobilenet5.output)\n",
        "x=Dense(128,activation='relu')(x)\n",
        "x=Dropout(.2)(x)\n",
        "prediction = Dense(num_classes, activation='softmax')(x)\n",
        "\n",
        "model5 = Model(inputs=mobilenet5.input,outputs=prediction)\n",
        "\n",
        "model5.compile(optimizer='adam', loss='categorical_crossentropy', metrics=[\"accuracy\"])\n",
        "weight_path = '/content/drive/My Drive/Results/Weight/3class_densenet121_fold2_simple.h5'################################\n",
        "model5.load_weights(weight_path)\n",
        " \n",
        "model_fifth = Model(model5.inputs, model5.output)# Here, the final dense layer is layer -1, the dropout before that is -2, then -3 and -4 and Flatten layer is -5. Take what you need.\n"
      ],
      "execution_count": null,
      "outputs": []
    },
    {
      "cell_type": "code",
      "metadata": {
        "id": "wTyD33UPTARa",
        "colab_type": "code",
        "colab": {}
      },
      "source": [
        "model_name = 'Ensembel_3class_Fold2_decision_fusion'#########################################################################\n",
        "\n",
        "weight_save_path = '/content/drive/My Drive/Results/Weight/'\n",
        "\n"
      ],
      "execution_count": null,
      "outputs": []
    },
    {
      "cell_type": "code",
      "metadata": {
        "id": "Wd0_vP2ksF_j",
        "colab_type": "code",
        "colab": {
          "base_uri": "https://localhost:8080/",
          "height": 34
        },
        "outputId": "a3c62c49-101d-4afe-99d5-6081a369ac7b"
      },
      "source": [
        "from sklearn.metrics import classification_report\n",
        "X_tra=np.ones((246,5))\n",
        "y_pred1 = model_first.predict(X_test)\n",
        "y_pred2 = model_second.predict(X_test)\n",
        "y_pred3 = model_third.predict(X_test)\n",
        "y_pred4 = model_fourth.predict(X_test)\n",
        "y_pred5 = model_fifth.predict(X_test)\n",
        "#X_train1 = np.concatenate((y_pred1, y_pred2,y_pred3), axis=1)\n",
        "y_pred_bool1 = np.argmax(y_pred1, axis=1)\n",
        "y_pred_bool2 = np.argmax(y_pred2, axis=1)\n",
        "y_pred_bool3 = np.argmax(y_pred3, axis=1)\n",
        "y_pred_bool4 = np.argmax(y_pred4, axis=1)\n",
        "y_pred_bool5 = np.argmax(y_pred5, axis=1)\n",
        "for i in range(len(y_pred_bool1)):\n",
        "  X_tra[i]=[y_pred_bool1[i], y_pred_bool2[i],y_pred_bool3[i],y_pred_bool4[i],y_pred_bool5[i]]\n",
        "#print(np.unique(y_pred_bool))\n",
        "X_tra.shape\n",
        "#report = classification_report(y_test, y_pred_bool, output_dict=True)\n",
        "#print(classification_report(y_test, y_pred_bool))"
      ],
      "execution_count": null,
      "outputs": [
        {
          "output_type": "execute_result",
          "data": {
            "text/plain": [
              "(246, 5)"
            ]
          },
          "metadata": {
            "tags": []
          },
          "execution_count": 28
        }
      ]
    },
    {
      "cell_type": "code",
      "metadata": {
        "id": "bZ4yEzO5snhM",
        "colab_type": "code",
        "colab": {
          "base_uri": "https://localhost:8080/",
          "height": 221
        },
        "outputId": "c9b7b3fa-0570-4a51-fb9b-f0b977fb9c35"
      },
      "source": [
        "import statistics \n",
        "from statistics import mode \n",
        "y_pred_bool=np.ones((246,1))\n",
        "\n",
        "for i in range(len(X_tra)):\n",
        "  try:\n",
        "    y_pred_bool[i]=mode(X_tra[i])\n",
        "  except:\n",
        "    print(i)\n",
        "    if X_tra[i][0]==X_tra[i][1]:\n",
        "      y_pred_bool[i]=X_tra[i][1]\n",
        "    elif X_tra[i][0]==X_tra[i][2]:\n",
        "      y_pred_bool[i]=X_tra[i][2] \n",
        "    elif X_tra[i][0]==X_tra[i][3]:\n",
        "      y_pred_bool[i]=X_tra[i][3]\n",
        "    elif X_tra[i][0]==X_tra[i][4]:\n",
        "      y_pred_bool[i]=X_tra[i][4]\n",
        "    \n",
        "\n",
        "\n",
        "\n",
        "\n",
        "\n",
        "print(np.unique(y_pred_bool))\n",
        "\n",
        "report = classification_report(y_test, y_pred_bool, output_dict=True)\n",
        "print(classification_report(y_test, y_pred_bool))\n"
      ],
      "execution_count": null,
      "outputs": [
        {
          "output_type": "stream",
          "text": [
            "80\n",
            "[0. 1. 2.]\n",
            "              precision    recall  f1-score   support\n",
            "\n",
            "           0       1.00      0.99      0.99        82\n",
            "           1       0.86      0.94      0.90        82\n",
            "           2       0.93      0.85      0.89        82\n",
            "\n",
            "    accuracy                           0.93       246\n",
            "   macro avg       0.93      0.93      0.93       246\n",
            "weighted avg       0.93      0.93      0.93       246\n",
            "\n"
          ],
          "name": "stdout"
        }
      ]
    },
    {
      "cell_type": "code",
      "metadata": {
        "id": "m8yP2Y8RTgn8",
        "colab_type": "code",
        "colab": {
          "base_uri": "https://localhost:8080/",
          "height": 136
        },
        "outputId": "9b11f0bd-8209-49da-de6b-2e6a6192c2b5"
      },
      "source": [
        "\n",
        "from tensorflow.keras.utils import plot_model\n",
        "\n",
        "############## Make Sure to Change this ####################\n",
        "plot_save_path = '/content/drive/My Drive/Results/ModelPlot/'\n",
        "hist_save_path = '/content/drive/My Drive/Results/History/'\n",
        "result_save_path = '/content/drive/My Drive/Results/Result/'\n",
        "confusion_matrix_save_path = '/content/drive/My Drive/Results/Confusion Matrix/'\n",
        "\n",
        "\n",
        "\n",
        "\n",
        "result_df = report\n",
        "result_df = pd.DataFrame(result_df).transpose()\n",
        "\n",
        "print(result_df)\n",
        "\n",
        "result_df.to_csv(result_save_path+model_name+'_result.csv')"
      ],
      "execution_count": null,
      "outputs": [
        {
          "output_type": "stream",
          "text": [
            "              precision    recall  f1-score     support\n",
            "0              1.000000  0.987805  0.993865   82.000000\n",
            "1              0.855556  0.939024  0.895349   82.000000\n",
            "2              0.933333  0.853659  0.891720   82.000000\n",
            "accuracy       0.926829  0.926829  0.926829    0.926829\n",
            "macro avg      0.929630  0.926829  0.926978  246.000000\n",
            "weighted avg   0.929630  0.926829  0.926978  246.000000\n"
          ],
          "name": "stdout"
        }
      ]
    },
    {
      "cell_type": "code",
      "metadata": {
        "id": "ZSuCKcRITiPh",
        "colab_type": "code",
        "colab": {
          "base_uri": "https://localhost:8080/",
          "height": 538
        },
        "outputId": "67ee7790-b4f0-4749-fe4e-574db6f2cffa"
      },
      "source": [
        "from sklearn.metrics import accuracy_score, confusion_matrix\n",
        "from seaborn import heatmap\n",
        "from matplotlib import pyplot as plt\n",
        "\n",
        "#preds = np.argmax(models.predict(X_test), axis=1)\n",
        "acc = accuracy_score(y_test, np.round(y_pred_bool))*100\n",
        "cm = confusion_matrix(y_test, np.round(y_pred_bool))\n",
        "cm_norm = confusion_matrix(y_test, np.round(y_pred_bool), normalize='true')\n",
        "#tn, fp, fn, tp = cm.ravel()\n",
        "\n",
        "print('CONFUSION MATRIX ------------------')\n",
        "\n",
        "ax = heatmap(cm, cmap='Blues', linecolor='lightblue',linewidths=.5,annot=True,annot_kws={'size': 12}, xticklabels=['COVID19', 'NORMAL','PNEUMONIA'], yticklabels=['COVID19', 'NORMAL','PNEUMONIA'], square=True, fmt='d')\n",
        "\n",
        "ax.set_xticklabels(ax.get_xmajorticklabels(), fontsize = 12)\n",
        "ax.set_yticklabels(ax.get_ymajorticklabels(), fontsize = 12,rotation=0)\n",
        "\n",
        "plt.savefig(confusion_matrix_save_path+model_name+'.png',dpi=300)\n",
        "plt.show()\n",
        "\n",
        "ax = heatmap(cm_norm, cmap='Blues', annot=True,linecolor='lightblue',linewidths=.5,annot_kws={'size': 12}, xticklabels=['COVID19', 'NORMAL','PNEUMONIA'], yticklabels=['COVID19', 'NORMAL','PNEUMONIA'], square=True, fmt='.2f')\n",
        "\n",
        "ax.set_xticklabels(ax.get_xmajorticklabels(), fontsize = 12)\n",
        "ax.set_yticklabels(ax.get_ymajorticklabels(), fontsize = 12,rotation=0)\n",
        "\n",
        "plt.savefig(confusion_matrix_save_path+model_name+'_normalized.png',dpi=300)"
      ],
      "execution_count": null,
      "outputs": [
        {
          "output_type": "stream",
          "text": [
            "CONFUSION MATRIX ------------------\n"
          ],
          "name": "stdout"
        },
        {
          "output_type": "display_data",
          "data": {
            "image/png": "[encoded data removed]",
            "text/plain": [
              "<Figure size 432x288 with 2 Axes>"
            ]
          },
          "metadata": {
            "tags": [],
            "needs_background": "light"
          }
        },
        {
          "output_type": "display_data",
          "data": {
            "image/png": "[encoded data removed]",
            "text/plain": [
              "<Figure size 432x288 with 2 Axes>"
            ]
          },
          "metadata": {
            "tags": [],
            "needs_background": "light"
          }
        }
      ]
    },
    {
      "cell_type": "code",
      "metadata": {
        "id": "eDFa_19hvqX9",
        "colab_type": "code",
        "colab": {}
      },
      "source": [
        ""
      ],
      "execution_count": null,
      "outputs": []
    }
  ]
}